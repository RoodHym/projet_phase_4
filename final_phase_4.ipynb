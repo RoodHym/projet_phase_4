{
 "cells": [
  {
   "cell_type": "markdown",
   "metadata": {},
   "source": [
    "# Apercu du projet\n",
    "Ce projet développe un système de recommandation à partir du jeu de données MovieLens 100k, qui contient environ 100 000 évaluations de films par des utilisateurs. Le problème métier abordé est de fournir des recommandations de films personnalisées afin d'améliorer l'engagement des utilisateurs sur une plateforme de streaming. Le jeu de données est particulièrement adapté à cette tâche, car il contient des évaluations utilisateur explicites (de 1 à 5 étoiles), permettant ainsi de prédire et d'évaluer leurs préférences.\n",
    "\n",
    "L'approche de modélisation principale a utilisé la décomposition en valeurs singulières (SVD) du package Surprise, qui factorise la matrice d'interaction utilisateur-film en caractéristiques latentes représentant les préférences de l'utilisateur et les caractéristiques du film. L'entraînement et les tests ont été réalisés avec une répartition 80/20, garantissant une évaluation équitable sur des données non visualisées. Aucun réglage approfondi des hyperparamètres n'a été effectué par souci de simplicité, mais l'implémentation de la SVD fournit une base solide.\n",
    "\n",
    "L'évaluation du modèle s'est basée sur l'erreur quadratique moyenne (RMSE) et l'erreur absolue moyenne (MAE), deux mesures appropriées pour la prédiction explicite des notes.  Les résultats montrent que le modèle SVD surpasse significativement le modèle de référence de popularité pour capturer les préférences personnalisées. Cela confirme la robustesse du filtrage collaboratif comme approche de recommandation. Les travaux futurs se concentreront sur l'hybridation avec des méthodes basées sur le contenu afin de pallier les limitations du démarrage à froid.\n"
   ]
  },
  {
   "cell_type": "code",
   "execution_count": 1,
   "metadata": {},
   "outputs": [],
   "source": [
    "import pandas as pd\n",
    "import numpy as np\n",
    "from surprise import Dataset, Reader, SVD\n",
    "from surprise.model_selection import train_test_split, cross_validate\n",
    "from surprise import accuracy\n",
    "from collections import defaultdict\n",
    "import matplotlib.pyplot as plt\n"
   ]
  },
  {
   "cell_type": "code",
   "execution_count": 6,
   "metadata": {},
   "outputs": [
    {
     "name": "stdout",
     "output_type": "stream",
     "text": [
      "Ratings shape: (100836, 4)\n",
      "Movies shape: (9742, 3)\n"
     ]
    },
    {
     "data": {
      "text/html": [
       "<div>\n",
       "<style scoped>\n",
       "    .dataframe tbody tr th:only-of-type {\n",
       "        vertical-align: middle;\n",
       "    }\n",
       "\n",
       "    .dataframe tbody tr th {\n",
       "        vertical-align: top;\n",
       "    }\n",
       "\n",
       "    .dataframe thead th {\n",
       "        text-align: right;\n",
       "    }\n",
       "</style>\n",
       "<table border=\"1\" class=\"dataframe\">\n",
       "  <thead>\n",
       "    <tr style=\"text-align: right;\">\n",
       "      <th></th>\n",
       "      <th>movieId</th>\n",
       "      <th>title</th>\n",
       "      <th>genres</th>\n",
       "    </tr>\n",
       "  </thead>\n",
       "  <tbody>\n",
       "    <tr>\n",
       "      <th>0</th>\n",
       "      <td>1</td>\n",
       "      <td>Toy Story (1995)</td>\n",
       "      <td>Adventure|Animation|Children|Comedy|Fantasy</td>\n",
       "    </tr>\n",
       "    <tr>\n",
       "      <th>1</th>\n",
       "      <td>2</td>\n",
       "      <td>Jumanji (1995)</td>\n",
       "      <td>Adventure|Children|Fantasy</td>\n",
       "    </tr>\n",
       "    <tr>\n",
       "      <th>2</th>\n",
       "      <td>3</td>\n",
       "      <td>Grumpier Old Men (1995)</td>\n",
       "      <td>Comedy|Romance</td>\n",
       "    </tr>\n",
       "    <tr>\n",
       "      <th>3</th>\n",
       "      <td>4</td>\n",
       "      <td>Waiting to Exhale (1995)</td>\n",
       "      <td>Comedy|Drama|Romance</td>\n",
       "    </tr>\n",
       "    <tr>\n",
       "      <th>4</th>\n",
       "      <td>5</td>\n",
       "      <td>Father of the Bride Part II (1995)</td>\n",
       "      <td>Comedy</td>\n",
       "    </tr>\n",
       "  </tbody>\n",
       "</table>\n",
       "</div>"
      ],
      "text/plain": [
       "   movieId                               title  \\\n",
       "0        1                    Toy Story (1995)   \n",
       "1        2                      Jumanji (1995)   \n",
       "2        3             Grumpier Old Men (1995)   \n",
       "3        4            Waiting to Exhale (1995)   \n",
       "4        5  Father of the Bride Part II (1995)   \n",
       "\n",
       "                                        genres  \n",
       "0  Adventure|Animation|Children|Comedy|Fantasy  \n",
       "1                   Adventure|Children|Fantasy  \n",
       "2                               Comedy|Romance  \n",
       "3                         Comedy|Drama|Romance  \n",
       "4                                       Comedy  "
      ]
     },
     "execution_count": 6,
     "metadata": {},
     "output_type": "execute_result"
    }
   ],
   "source": [
    "# --- 2. Load Data ---\n",
    "ratings = pd.read_csv(\"ml-latest-small/ratings.csv\")\n",
    "movies = pd.read_csv(\"ml-latest-small/movies.csv\")\n",
    "\n",
    "print(\"Ratings shape:\", ratings.shape)\n",
    "print(\"Movies shape:\", movies.shape)\n",
    "ratings.head()\n",
    "movies.head()"
   ]
  },
  {
   "cell_type": "code",
   "execution_count": 3,
   "metadata": {},
   "outputs": [
    {
     "name": "stdout",
     "output_type": "stream",
     "text": [
      "   userId  movieId  rating   timestamp             title  \\\n",
      "0       1        1     4.0   964982703  Toy Story (1995)   \n",
      "1       5        1     4.0   847434962  Toy Story (1995)   \n",
      "2       7        1     4.5  1106635946  Toy Story (1995)   \n",
      "3      15        1     2.5  1510577970  Toy Story (1995)   \n",
      "4      17        1     4.5  1305696483  Toy Story (1995)   \n",
      "\n",
      "                                        genres  \n",
      "0  Adventure|Animation|Children|Comedy|Fantasy  \n",
      "1  Adventure|Animation|Children|Comedy|Fantasy  \n",
      "2  Adventure|Animation|Children|Comedy|Fantasy  \n",
      "3  Adventure|Animation|Children|Comedy|Fantasy  \n",
      "4  Adventure|Animation|Children|Comedy|Fantasy  \n"
     ]
    }
   ],
   "source": [
    "# Fusionner pour l'exploration\n",
    "ratings_movies = ratings.merge(movies, on=\"movieId\")\n",
    "print(ratings_movies.head())"
   ]
  },
  {
   "cell_type": "code",
   "execution_count": 7,
   "metadata": {},
   "outputs": [
    {
     "data": {
      "image/png": "[encoded data removed]",
      "text/plain": [
       "<Figure size 720x360 with 1 Axes>"
      ]
     },
     "metadata": {
      "needs_background": "light"
     },
     "output_type": "display_data"
    }
   ],
   "source": [
    "# Exploration des donnees\n",
    "ratings_per_movie = ratings_movies.groupby(\"title\")[\"rating\"].count().sort_values(ascending=False)\n",
    "\n",
    "plt.figure(figsize=(10,5))\n",
    "ratings_per_movie.head(20).plot(kind=\"bar\")\n",
    "plt.title(\"Top 20 Most Rated Movies\")\n",
    "plt.show()"
   ]
  },
  {
   "cell_type": "code",
   "execution_count": 16,
   "metadata": {},
   "outputs": [
    {
     "name": "stdout",
     "output_type": "stream",
     "text": [
      "Top 5 des films par note moyenne (avec > 50 notes):\n",
      "                                                      rating  num_ratings\n",
      "title                                                                    \n",
      "Shawshank Redemption, The (1994)                    4.429022          317\n",
      "Godfather, The (1972)                               4.289062          192\n",
      "Fight Club (1999)                                   4.272936          218\n",
      "Cool Hand Luke (1967)                               4.271930           57\n",
      "Dr. Strangelove or: How I Learned to Stop Worry...  4.268041           97\n"
     ]
    }
   ],
   "source": [
    "# Modele de reference\n",
    "popular_movies = ratings_movies.groupby(\"title\").agg({\"rating\": \"mean\", \"movieId\": \"count\"})\n",
    "popular_movies = popular_movies.rename(columns={\"movieId\": \"num_ratings\"})\n",
    "\n",
    "popular_movies = popular_movies[popular_movies[\"num_ratings\"] > 50]\n",
    "popular_movies = popular_movies.sort_values(by=\"rating\", ascending=False)\n",
    "print(\"Top 5 des films par note moyenne (avec > 50 notes):\")\n",
    "print(popular_movies.head())"
   ]
  },
  {
   "cell_type": "code",
   "execution_count": 10,
   "metadata": {},
   "outputs": [
    {
     "name": "stdout",
     "output_type": "stream",
     "text": [
      "RMSE: 0.8771\n",
      "MAE:  0.6737\n"
     ]
    }
   ],
   "source": [
    "# Filtrage collaboratif avec surprise\n",
    "reader = Reader(rating_scale=(0.5, 5.0))\n",
    "data = Dataset.load_from_df(ratings[[\"userId\", \"movieId\", \"rating\"]], reader)\n",
    "\n",
    "trainset, testset = train_test_split(data, test_size=0.2)\n",
    "\n",
    "model = SVD()\n",
    "model.fit(trainset)\n",
    "\n",
    "predictions = model.test(testset)\n",
    "\n",
    "# Evaluate\n",
    "rmse = accuracy.rmse(predictions)\n",
    "mae = accuracy.mae(predictions)"
   ]
  },
  {
   "cell_type": "code",
   "execution_count": 15,
   "metadata": {},
   "outputs": [
    {
     "name": "stdout",
     "output_type": "stream",
     "text": [
      "Top 5 des recommandations pour l'utilisateur 1:\n",
      "      movieId                             title                   genres\n",
      "277       318  Shawshank Redemption, The (1994)              Crime|Drama\n",
      "680       898    Philadelphia Story, The (1940)     Comedy|Drama|Romance\n",
      "681       899        Singin' in the Rain (1952)   Comedy|Musical|Romance\n",
      "694       912                 Casablanca (1942)            Drama|Romance\n",
      "6710    58559           Dark Knight, The (2008)  Action|Crime|Drama|IMAX\n"
     ]
    }
   ],
   "source": [
    "# Fonction de recommandation Top-N\n",
    "def get_top_n(predictions, n=5):\n",
    "    top_n = defaultdict(list)\n",
    "    for uid, iid, true_r, est, _ in predictions:\n",
    "        top_n[uid].append((iid, est))\n",
    "    for uid, user_ratings in top_n.items():\n",
    "        user_ratings.sort(key=lambda x: x[1], reverse=True)\n",
    "        top_n[uid] = user_ratings[:n]\n",
    "    return top_n\n",
    "\n",
    "# Entraînement sur l'ensemble de données complet pour obtenir des recommandations\n",
    "trainset = data.build_full_trainset()\n",
    "model.fit(trainset)\n",
    "all_predictions = model.test(trainset.build_anti_testset())\n",
    "\n",
    "top_n = get_top_n(all_predictions, n=5)\n",
    "\n",
    "# Exemple : les 5 meilleures recommandations pour l'utilisateur 1\n",
    "user_id = 1\n",
    "recommendations = top_n[user_id]\n",
    "recommended_movie_ids = [iid for (iid, _) in recommendations]\n",
    "\n",
    "print(\"Top 5 des recommandations pour l'utilisateur 1:\")\n",
    "print(movies[movies[\"movieId\"].isin(recommended_movie_ids)])"
   ]
  },
  {
   "cell_type": "code",
   "execution_count": null,
   "metadata": {},
   "outputs": [],
   "source": []
  }
 ],
 "metadata": {
  "kernelspec": {
   "display_name": "python (learn-env)",
   "language": "python",
   "name": "learn-env"
  },
  "language_info": {
   "codemirror_mode": {
    "name": "ipython",
    "version": 3
   },
   "file_extension": ".py",
   "mimetype": "text/x-python",
   "name": "python",
   "nbconvert_exporter": "python",
   "pygments_lexer": "ipython3",
   "version": "3.8.5"
  }
 },
 "nbformat": 4,
 "nbformat_minor": 4
}
